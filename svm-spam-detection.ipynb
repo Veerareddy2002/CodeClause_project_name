{
 "cells": [
  {
   "cell_type": "code",
   "execution_count": 1,
   "id": "b56e3511",
   "metadata": {
    "_cell_guid": "b1076dfc-b9ad-4769-8c92-a6c4dae69d19",
    "_uuid": "8f2839f25d086af736a60e9eeb907d3b93b6e0e5",
    "execution": {
     "iopub.execute_input": "2023-04-25T16:55:27.181769Z",
     "iopub.status.busy": "2023-04-25T16:55:27.181329Z",
     "iopub.status.idle": "2023-04-25T16:55:28.436200Z",
     "shell.execute_reply": "2023-04-25T16:55:28.434766Z"
    },
    "papermill": {
     "duration": 1.270188,
     "end_time": "2023-04-25T16:55:28.439612",
     "exception": false,
     "start_time": "2023-04-25T16:55:27.169424",
     "status": "completed"
    },
    "tags": []
   },
   "outputs": [],
   "source": [
    "import numpy as np\n",
    "import pandas as pd\n",
    "import matplotlib.pyplot as plt\n",
    "from collections import Counter\n",
    "from sklearn import feature_extraction,model_selection,naive_bayes,metrics,svm\n",
    "from IPython.display import Image\n",
    "import warnings \n",
    "warnings.filterwarnings(\"ignore\")\n",
    "%matplotlib inline"
   ]
  },
  {
   "cell_type": "code",
   "execution_count": 2,
   "id": "8d7cd4ea",
   "metadata": {
    "execution": {
     "iopub.execute_input": "2023-04-25T16:55:28.459207Z",
     "iopub.status.busy": "2023-04-25T16:55:28.458736Z",
     "iopub.status.idle": "2023-04-25T16:55:28.521427Z",
     "shell.execute_reply": "2023-04-25T16:55:28.520207Z"
    },
    "papermill": {
     "duration": 0.075761,
     "end_time": "2023-04-25T16:55:28.524257",
     "exception": false,
     "start_time": "2023-04-25T16:55:28.448496",
     "status": "completed"
    },
    "tags": []
   },
   "outputs": [
    {
     "data": {
      "text/html": [
       "<div>\n",
       "<style scoped>\n",
       "    .dataframe tbody tr th:only-of-type {\n",
       "        vertical-align: middle;\n",
       "    }\n",
       "\n",
       "    .dataframe tbody tr th {\n",
       "        vertical-align: top;\n",
       "    }\n",
       "\n",
       "    .dataframe thead th {\n",
       "        text-align: right;\n",
       "    }\n",
       "</style>\n",
       "<table border=\"1\" class=\"dataframe\">\n",
       "  <thead>\n",
       "    <tr style=\"text-align: right;\">\n",
       "      <th></th>\n",
       "      <th>v1</th>\n",
       "      <th>v2</th>\n",
       "      <th>Unnamed: 2</th>\n",
       "      <th>Unnamed: 3</th>\n",
       "      <th>Unnamed: 4</th>\n",
       "    </tr>\n",
       "  </thead>\n",
       "  <tbody>\n",
       "    <tr>\n",
       "      <th>0</th>\n",
       "      <td>ham</td>\n",
       "      <td>Go until jurong point, crazy.. Available only ...</td>\n",
       "      <td>NaN</td>\n",
       "      <td>NaN</td>\n",
       "      <td>NaN</td>\n",
       "    </tr>\n",
       "    <tr>\n",
       "      <th>1</th>\n",
       "      <td>ham</td>\n",
       "      <td>Ok lar... Joking wif u oni...</td>\n",
       "      <td>NaN</td>\n",
       "      <td>NaN</td>\n",
       "      <td>NaN</td>\n",
       "    </tr>\n",
       "    <tr>\n",
       "      <th>2</th>\n",
       "      <td>spam</td>\n",
       "      <td>Free entry in 2 a wkly comp to win FA Cup fina...</td>\n",
       "      <td>NaN</td>\n",
       "      <td>NaN</td>\n",
       "      <td>NaN</td>\n",
       "    </tr>\n",
       "    <tr>\n",
       "      <th>3</th>\n",
       "      <td>ham</td>\n",
       "      <td>U dun say so early hor... U c already then say...</td>\n",
       "      <td>NaN</td>\n",
       "      <td>NaN</td>\n",
       "      <td>NaN</td>\n",
       "    </tr>\n",
       "    <tr>\n",
       "      <th>4</th>\n",
       "      <td>ham</td>\n",
       "      <td>Nah I don't think he goes to usf, he lives aro...</td>\n",
       "      <td>NaN</td>\n",
       "      <td>NaN</td>\n",
       "      <td>NaN</td>\n",
       "    </tr>\n",
       "    <tr>\n",
       "      <th>5</th>\n",
       "      <td>spam</td>\n",
       "      <td>FreeMsg Hey there darling it's been 3 week's n...</td>\n",
       "      <td>NaN</td>\n",
       "      <td>NaN</td>\n",
       "      <td>NaN</td>\n",
       "    </tr>\n",
       "    <tr>\n",
       "      <th>6</th>\n",
       "      <td>ham</td>\n",
       "      <td>Even my brother is not like to speak with me. ...</td>\n",
       "      <td>NaN</td>\n",
       "      <td>NaN</td>\n",
       "      <td>NaN</td>\n",
       "    </tr>\n",
       "    <tr>\n",
       "      <th>7</th>\n",
       "      <td>ham</td>\n",
       "      <td>As per your request 'Melle Melle (Oru Minnamin...</td>\n",
       "      <td>NaN</td>\n",
       "      <td>NaN</td>\n",
       "      <td>NaN</td>\n",
       "    </tr>\n",
       "    <tr>\n",
       "      <th>8</th>\n",
       "      <td>spam</td>\n",
       "      <td>WINNER!! As a valued network customer you have...</td>\n",
       "      <td>NaN</td>\n",
       "      <td>NaN</td>\n",
       "      <td>NaN</td>\n",
       "    </tr>\n",
       "    <tr>\n",
       "      <th>9</th>\n",
       "      <td>spam</td>\n",
       "      <td>Had your mobile 11 months or more? U R entitle...</td>\n",
       "      <td>NaN</td>\n",
       "      <td>NaN</td>\n",
       "      <td>NaN</td>\n",
       "    </tr>\n",
       "  </tbody>\n",
       "</table>\n",
       "</div>"
      ],
      "text/plain": [
       "     v1                                                 v2 Unnamed: 2  \\\n",
       "0   ham  Go until jurong point, crazy.. Available only ...        NaN   \n",
       "1   ham                      Ok lar... Joking wif u oni...        NaN   \n",
       "2  spam  Free entry in 2 a wkly comp to win FA Cup fina...        NaN   \n",
       "3   ham  U dun say so early hor... U c already then say...        NaN   \n",
       "4   ham  Nah I don't think he goes to usf, he lives aro...        NaN   \n",
       "5  spam  FreeMsg Hey there darling it's been 3 week's n...        NaN   \n",
       "6   ham  Even my brother is not like to speak with me. ...        NaN   \n",
       "7   ham  As per your request 'Melle Melle (Oru Minnamin...        NaN   \n",
       "8  spam  WINNER!! As a valued network customer you have...        NaN   \n",
       "9  spam  Had your mobile 11 months or more? U R entitle...        NaN   \n",
       "\n",
       "  Unnamed: 3 Unnamed: 4  \n",
       "0        NaN        NaN  \n",
       "1        NaN        NaN  \n",
       "2        NaN        NaN  \n",
       "3        NaN        NaN  \n",
       "4        NaN        NaN  \n",
       "5        NaN        NaN  \n",
       "6        NaN        NaN  \n",
       "7        NaN        NaN  \n",
       "8        NaN        NaN  \n",
       "9        NaN        NaN  "
      ]
     },
     "execution_count": 2,
     "metadata": {},
     "output_type": "execute_result"
    }
   ],
   "source": [
    "data=pd.read_csv('/kaggle/input/spam-detect/spam.csv',encoding='latin-1')\n",
    "data.head(n=10)"
   ]
  },
  {
   "cell_type": "markdown",
   "id": "70313761",
   "metadata": {
    "papermill": {
     "duration": 0.008477,
     "end_time": "2023-04-25T16:55:28.541847",
     "exception": false,
     "start_time": "2023-04-25T16:55:28.533370",
     "status": "completed"
    },
    "tags": []
   },
   "source": [
    "**Distribution spam/non-spam plots**\n"
   ]
  },
  {
   "cell_type": "code",
   "execution_count": 3,
   "id": "5beb4eb4",
   "metadata": {
    "execution": {
     "iopub.execute_input": "2023-04-25T16:55:28.561828Z",
     "iopub.status.busy": "2023-04-25T16:55:28.561357Z",
     "iopub.status.idle": "2023-04-25T16:55:28.865406Z",
     "shell.execute_reply": "2023-04-25T16:55:28.863911Z"
    },
    "papermill": {
     "duration": 0.318198,
     "end_time": "2023-04-25T16:55:28.868961",
     "exception": false,
     "start_time": "2023-04-25T16:55:28.550763",
     "status": "completed"
    },
    "tags": []
   },
   "outputs": [
    {
     "data": {
      "text/plain": [
       "<function matplotlib.pyplot.show(close=None, block=None)>"
      ]
     },
     "execution_count": 3,
     "metadata": {},
     "output_type": "execute_result"
    },
    {
     "data": {
      "image/png": "[encoded data removed]",
      "text/plain": [
       "<Figure size 640x480 with 1 Axes>"
      ]
     },
     "metadata": {},
     "output_type": "display_data"
    }
   ],
   "source": [
    "count_Class=pd.value_counts(data[\"v1\"],sort=True)\n",
    "count_Class.plot(kind='bar',color=[\"blue\",\"orange\"])\n",
    "plt.title('Bar chart')\n",
    "plt.show"
   ]
  },
  {
   "cell_type": "code",
   "execution_count": 4,
   "id": "8a4cfe76",
   "metadata": {
    "execution": {
     "iopub.execute_input": "2023-04-25T16:55:28.889717Z",
     "iopub.status.busy": "2023-04-25T16:55:28.888963Z",
     "iopub.status.idle": "2023-04-25T16:55:29.027866Z",
     "shell.execute_reply": "2023-04-25T16:55:29.025950Z"
    },
    "papermill": {
     "duration": 0.154702,
     "end_time": "2023-04-25T16:55:29.032995",
     "exception": false,
     "start_time": "2023-04-25T16:55:28.878293",
     "status": "completed"
    },
    "tags": []
   },
   "outputs": [
    {
     "data": {
      "image/png": "[encoded data removed]",
      "text/plain": [
       "<Figure size 640x480 with 1 Axes>"
      ]
     },
     "metadata": {},
     "output_type": "display_data"
    }
   ],
   "source": [
    "count_Class.plot(kind='pie',autopct='%1.0f%%')\n",
    "plt.title('pie chart')\n",
    "plt.ylabel('')\n",
    "plt.show()"
   ]
  },
  {
   "cell_type": "markdown",
   "id": "ab607351",
   "metadata": {
    "papermill": {
     "duration": 0.024306,
     "end_time": "2023-04-25T16:55:29.082045",
     "exception": false,
     "start_time": "2023-04-25T16:55:29.057739",
     "status": "completed"
    },
    "tags": []
   },
   "source": [
    "**Text Analytics**\n"
   ]
  },
  {
   "cell_type": "markdown",
   "id": "fe80f235",
   "metadata": {
    "papermill": {
     "duration": 0.009187,
     "end_time": "2023-04-25T16:55:29.105537",
     "exception": false,
     "start_time": "2023-04-25T16:55:29.096350",
     "status": "completed"
    },
    "tags": []
   },
   "source": [
    "we want to find the frequencies of words in the spam and non-spam messages.The worrds of the messages will be model features.\n",
    "\n",
    "we use the function Counter. "
   ]
  },
  {
   "cell_type": "code",
   "execution_count": 5,
   "id": "45be5893",
   "metadata": {
    "execution": {
     "iopub.execute_input": "2023-04-25T16:55:29.128372Z",
     "iopub.status.busy": "2023-04-25T16:55:29.127124Z",
     "iopub.status.idle": "2023-04-25T16:55:29.166583Z",
     "shell.execute_reply": "2023-04-25T16:55:29.165601Z"
    },
    "papermill": {
     "duration": 0.053025,
     "end_time": "2023-04-25T16:55:29.169246",
     "exception": false,
     "start_time": "2023-04-25T16:55:29.116221",
     "status": "completed"
    },
    "tags": []
   },
   "outputs": [],
   "source": [
    "count1=Counter(\" \".join(data[data['v1']=='ham'][\"v2\"]).split()).most_common(20)\n",
    "df1=pd.DataFrame.from_dict(count1)\n",
    "df1=df1.rename(columns={0:\"words in non-spam\", 1 :\"count\"})\n",
    "count2=Counter(\" \".join(data[data['v1']=='spam'][\"v2\"]).split()).most_common(20)\n",
    "df2=pd.DataFrame.from_dict(count2)\n",
    "df2=df2.rename(columns={0:\"words in spam\",1:\"count_\"})"
   ]
  },
  {
   "cell_type": "code",
   "execution_count": 6,
   "id": "f9917307",
   "metadata": {
    "execution": {
     "iopub.execute_input": "2023-04-25T16:55:29.190830Z",
     "iopub.status.busy": "2023-04-25T16:55:29.190342Z",
     "iopub.status.idle": "2023-04-25T16:55:29.503748Z",
     "shell.execute_reply": "2023-04-25T16:55:29.502838Z"
    },
    "papermill": {
     "duration": 0.327158,
     "end_time": "2023-04-25T16:55:29.506292",
     "exception": false,
     "start_time": "2023-04-25T16:55:29.179134",
     "status": "completed"
    },
    "tags": []
   },
   "outputs": [
    {
     "data": {
      "image/png": "[encoded data removed]",
      "text/plain": [
       "<Figure size 640x480 with 1 Axes>"
      ]
     },
     "metadata": {},
     "output_type": "display_data"
    }
   ],
   "source": [
    "df1.plot.bar(legend = False)\n",
    "y_pos = np.arange(len(df1[\"words in non-spam\"]))\n",
    "plt.xticks(y_pos , df1[\"words in non-spam\"])\n",
    "plt.title('more frequent words in non-spam messages')\n",
    "plt.xlabel('words')\n",
    "plt.ylabel('number')\n",
    "plt.show()"
   ]
  },
  {
   "cell_type": "code",
   "execution_count": 7,
   "id": "12618886",
   "metadata": {
    "execution": {
     "iopub.execute_input": "2023-04-25T16:55:29.529146Z",
     "iopub.status.busy": "2023-04-25T16:55:29.528365Z",
     "iopub.status.idle": "2023-04-25T16:55:29.826683Z",
     "shell.execute_reply": "2023-04-25T16:55:29.825414Z"
    },
    "papermill": {
     "duration": 0.312737,
     "end_time": "2023-04-25T16:55:29.829414",
     "exception": false,
     "start_time": "2023-04-25T16:55:29.516677",
     "status": "completed"
    },
    "tags": []
   },
   "outputs": [
    {
     "data": {
      "image/png": "[encoded data removed]",
      "text/plain": [
       "<Figure size 640x480 with 1 Axes>"
      ]
     },
     "metadata": {},
     "output_type": "display_data"
    }
   ],
   "source": [
    "df2.plot.bar(legend = False,color = 'orange')\n",
    "y_pos = np.arange(len(df2[\"words in spam\"]))\n",
    "plt.xticks(y_pos,df2[\"words in spam\"])\n",
    "plt.title('more frequent words in spam message')\n",
    "plt.xlabel('words')\n",
    "plt.ylabel('number')\n",
    "plt.show()"
   ]
  },
  {
   "cell_type": "markdown",
   "id": "4b514b82",
   "metadata": {
    "papermill": {
     "duration": 0.010356,
     "end_time": "2023-04-25T16:55:29.850697",
     "exception": false,
     "start_time": "2023-04-25T16:55:29.840341",
     "status": "completed"
    },
    "tags": []
   },
   "source": [
    "we can see that the majority of frequent words in both clkasses are stop words such as'to','a','or' and so on.\n",
    "with stop words we refer to the most common words in a language,there is no simple,universal list of stop words"
   ]
  },
  {
   "cell_type": "markdown",
   "id": "9ad28a7a",
   "metadata": {
    "papermill": {
     "duration": 0.010501,
     "end_time": "2023-04-25T16:55:29.871790",
     "exception": false,
     "start_time": "2023-04-25T16:55:29.861289",
     "status": "completed"
    },
    "tags": []
   },
   "source": [
    "**Features engineering**"
   ]
  },
  {
   "cell_type": "markdown",
   "id": "304fdc22",
   "metadata": {
    "papermill": {
     "duration": 0.010147,
     "end_time": "2023-04-25T16:55:29.892648",
     "exception": false,
     "start_time": "2023-04-25T16:55:29.882501",
     "status": "completed"
    },
    "tags": []
   },
   "source": [
    "Text preprocessing,tokenizing and filterning of stopwords are included in a high level component that is able to build a dictinory of features and tranform documnents to feature vectors.\n",
    "\n",
    "we remove the stop words in order to improve the analytics"
   ]
  },
  {
   "cell_type": "code",
   "execution_count": 8,
   "id": "f92d2734",
   "metadata": {
    "execution": {
     "iopub.execute_input": "2023-04-25T16:55:29.916488Z",
     "iopub.status.busy": "2023-04-25T16:55:29.915275Z",
     "iopub.status.idle": "2023-04-25T16:55:30.026564Z",
     "shell.execute_reply": "2023-04-25T16:55:30.025501Z"
    },
    "papermill": {
     "duration": 0.126127,
     "end_time": "2023-04-25T16:55:30.029412",
     "exception": false,
     "start_time": "2023-04-25T16:55:29.903285",
     "status": "completed"
    },
    "tags": []
   },
   "outputs": [
    {
     "data": {
      "text/plain": [
       "(5572, 8404)"
      ]
     },
     "execution_count": 8,
     "metadata": {},
     "output_type": "execute_result"
    }
   ],
   "source": [
    "f=feature_extraction.text.CountVectorizer(stop_words='english')\n",
    "X=f.fit_transform(data[\"v2\"])\n",
    "np.shape(X)"
   ]
  },
  {
   "cell_type": "markdown",
   "id": "4a3780dd",
   "metadata": {
    "papermill": {
     "duration": 0.010555,
     "end_time": "2023-04-25T16:55:30.051646",
     "exception": false,
     "start_time": "2023-04-25T16:55:30.041091",
     "status": "completed"
    },
    "tags": []
   },
   "source": [
    "we have created more than 8400 new features.The new featurws j in the row i is equal to 1 if the word wj appears in the text example i.It is zero if not."
   ]
  },
  {
   "cell_type": "markdown",
   "id": "e3036ca4",
   "metadata": {
    "papermill": {
     "duration": 0.010337,
     "end_time": "2023-04-25T16:55:30.072955",
     "exception": false,
     "start_time": "2023-04-25T16:55:30.062618",
     "status": "completed"
    },
    "tags": []
   },
   "source": [
    "**Preductive Analysis**"
   ]
  },
  {
   "cell_type": "markdown",
   "id": "c072067b",
   "metadata": {
    "papermill": {
     "duration": 0.010308,
     "end_time": "2023-04-25T16:55:30.093973",
     "exception": false,
     "start_time": "2023-04-25T16:55:30.083665",
     "status": "completed"
    },
    "tags": []
   },
   "source": [
    "mu goal is to predict if a sms is spam or non-spam. i assume that is much worse misclassify non-spam than misclassify an spam.(i dont want to ave false postives)\n",
    "The reason is because  normally don't check the spam messages.\n",
    "the twio possible situation are:\n",
    "1.New spam sms in my inbox.(False negative).OUTCOME: b delect it.\n",
    "2.New non-apm sms in myb spam folder(False positive).OUTCOME:i probably don't read it.\n",
    "i prefer the irst option!!!First we teransform the variable spam/non-spam ingto binary variable,then we split our data set in traning set and text set."
   ]
  },
  {
   "cell_type": "code",
   "execution_count": 9,
   "id": "c3288041",
   "metadata": {
    "execution": {
     "iopub.execute_input": "2023-04-25T16:55:30.119595Z",
     "iopub.status.busy": "2023-04-25T16:55:30.118142Z",
     "iopub.status.idle": "2023-04-25T16:55:30.135848Z",
     "shell.execute_reply": "2023-04-25T16:55:30.133961Z"
    },
    "papermill": {
     "duration": 0.033494,
     "end_time": "2023-04-25T16:55:30.138708",
     "exception": false,
     "start_time": "2023-04-25T16:55:30.105214",
     "status": "completed"
    },
    "tags": []
   },
   "outputs": [
    {
     "name": "stdout",
     "output_type": "stream",
     "text": [
      "[(3733, 8404), (1839, 8404)]\n"
     ]
    }
   ],
   "source": [
    "data[\"v1\"]=data[\"v1\"].map({'spam':1,'ham':0})\n",
    "X_train, X_test, y_train, y_test = model_selection.train_test_split(X,data['v1'], test_size=0.33, random_state=42)\n",
    "print([np.shape(X_train),np.shape(X_test)])"
   ]
  },
  {
   "cell_type": "markdown",
   "id": "01d7b6bf",
   "metadata": {
    "papermill": {
     "duration": 0.010715,
     "end_time": "2023-04-25T16:55:30.160437",
     "exception": false,
     "start_time": "2023-04-25T16:55:30.149722",
     "status": "completed"
    },
    "tags": []
   },
   "source": [
    "**Multinomial navie bayes classifier**\n"
   ]
  },
  {
   "cell_type": "markdown",
   "id": "d0bcc59a",
   "metadata": {
    "papermill": {
     "duration": 0.010515,
     "end_time": "2023-04-25T16:55:30.182100",
     "exception": false,
     "start_time": "2023-04-25T16:55:30.171585",
     "status": "completed"
    },
    "tags": []
   },
   "source": [
    "we have different bayes models changing the regularization parameter alpha.We evaluate the accuracy,recall and orecision of the model with the test set."
   ]
  },
  {
   "cell_type": "code",
   "execution_count": 10,
   "id": "e7b96303",
   "metadata": {
    "execution": {
     "iopub.execute_input": "2023-04-25T16:55:30.205561Z",
     "iopub.status.busy": "2023-04-25T16:55:30.205156Z",
     "iopub.status.idle": "2023-04-25T16:55:31.507509Z",
     "shell.execute_reply": "2023-04-25T16:55:31.506168Z"
    },
    "papermill": {
     "duration": 1.317623,
     "end_time": "2023-04-25T16:55:31.510420",
     "exception": false,
     "start_time": "2023-04-25T16:55:30.192797",
     "status": "completed"
    },
    "tags": []
   },
   "outputs": [],
   "source": [
    "list_alpha = np.arange(1/100000, 20, 0.11)\n",
    "score_train = np.zeros(len(list_alpha))\n",
    "score_test = np.zeros(len(list_alpha))\n",
    "recall_test = np.zeros(len(list_alpha))\n",
    "precision_test= np.zeros(len(list_alpha))\n",
    "count = 0\n",
    "for alpha in list_alpha:\n",
    "    bayes = naive_bayes.MultinomialNB(alpha=alpha)\n",
    "    bayes.fit(X_train, y_train)\n",
    "    score_train[count] = bayes.score(X_train, y_train)\n",
    "    score_test[count]= bayes.score(X_test, y_test)\n",
    "    recall_test[count] = metrics.recall_score(y_test, bayes.predict(X_test))\n",
    "    precision_test[count] = metrics.precision_score(y_test, bayes.predict(X_test))\n",
    "    count = count + 1"
   ]
  },
  {
   "cell_type": "code",
   "execution_count": 11,
   "id": "b43065e8",
   "metadata": {
    "execution": {
     "iopub.execute_input": "2023-04-25T16:55:31.534559Z",
     "iopub.status.busy": "2023-04-25T16:55:31.534138Z",
     "iopub.status.idle": "2023-04-25T16:55:31.552711Z",
     "shell.execute_reply": "2023-04-25T16:55:31.551325Z"
    },
    "papermill": {
     "duration": 0.034268,
     "end_time": "2023-04-25T16:55:31.555648",
     "exception": false,
     "start_time": "2023-04-25T16:55:31.521380",
     "status": "completed"
    },
    "tags": []
   },
   "outputs": [
    {
     "data": {
      "text/html": [
       "<div>\n",
       "<style scoped>\n",
       "    .dataframe tbody tr th:only-of-type {\n",
       "        vertical-align: middle;\n",
       "    }\n",
       "\n",
       "    .dataframe tbody tr th {\n",
       "        vertical-align: top;\n",
       "    }\n",
       "\n",
       "    .dataframe thead th {\n",
       "        text-align: right;\n",
       "    }\n",
       "</style>\n",
       "<table border=\"1\" class=\"dataframe\">\n",
       "  <thead>\n",
       "    <tr style=\"text-align: right;\">\n",
       "      <th></th>\n",
       "      <th>alpha</th>\n",
       "      <th>Train Accuracy</th>\n",
       "      <th>Test Accuracy</th>\n",
       "      <th>Test Recall</th>\n",
       "      <th>Test Precision</th>\n",
       "    </tr>\n",
       "  </thead>\n",
       "  <tbody>\n",
       "    <tr>\n",
       "      <th>0</th>\n",
       "      <td>0.00001</td>\n",
       "      <td>0.998661</td>\n",
       "      <td>0.974443</td>\n",
       "      <td>0.920635</td>\n",
       "      <td>0.895753</td>\n",
       "    </tr>\n",
       "    <tr>\n",
       "      <th>1</th>\n",
       "      <td>0.11001</td>\n",
       "      <td>0.997857</td>\n",
       "      <td>0.976074</td>\n",
       "      <td>0.936508</td>\n",
       "      <td>0.893939</td>\n",
       "    </tr>\n",
       "    <tr>\n",
       "      <th>2</th>\n",
       "      <td>0.22001</td>\n",
       "      <td>0.997857</td>\n",
       "      <td>0.977162</td>\n",
       "      <td>0.936508</td>\n",
       "      <td>0.900763</td>\n",
       "    </tr>\n",
       "    <tr>\n",
       "      <th>3</th>\n",
       "      <td>0.33001</td>\n",
       "      <td>0.997589</td>\n",
       "      <td>0.977162</td>\n",
       "      <td>0.936508</td>\n",
       "      <td>0.900763</td>\n",
       "    </tr>\n",
       "    <tr>\n",
       "      <th>4</th>\n",
       "      <td>0.44001</td>\n",
       "      <td>0.997053</td>\n",
       "      <td>0.977162</td>\n",
       "      <td>0.936508</td>\n",
       "      <td>0.900763</td>\n",
       "    </tr>\n",
       "    <tr>\n",
       "      <th>5</th>\n",
       "      <td>0.55001</td>\n",
       "      <td>0.996250</td>\n",
       "      <td>0.976618</td>\n",
       "      <td>0.936508</td>\n",
       "      <td>0.897338</td>\n",
       "    </tr>\n",
       "    <tr>\n",
       "      <th>6</th>\n",
       "      <td>0.66001</td>\n",
       "      <td>0.996518</td>\n",
       "      <td>0.976074</td>\n",
       "      <td>0.932540</td>\n",
       "      <td>0.896947</td>\n",
       "    </tr>\n",
       "    <tr>\n",
       "      <th>7</th>\n",
       "      <td>0.77001</td>\n",
       "      <td>0.996518</td>\n",
       "      <td>0.976074</td>\n",
       "      <td>0.924603</td>\n",
       "      <td>0.903101</td>\n",
       "    </tr>\n",
       "    <tr>\n",
       "      <th>8</th>\n",
       "      <td>0.88001</td>\n",
       "      <td>0.996250</td>\n",
       "      <td>0.976074</td>\n",
       "      <td>0.924603</td>\n",
       "      <td>0.903101</td>\n",
       "    </tr>\n",
       "    <tr>\n",
       "      <th>9</th>\n",
       "      <td>0.99001</td>\n",
       "      <td>0.995982</td>\n",
       "      <td>0.976074</td>\n",
       "      <td>0.920635</td>\n",
       "      <td>0.906250</td>\n",
       "    </tr>\n",
       "  </tbody>\n",
       "</table>\n",
       "</div>"
      ],
      "text/plain": [
       "     alpha  Train Accuracy  Test Accuracy  Test Recall  Test Precision\n",
       "0  0.00001        0.998661       0.974443     0.920635        0.895753\n",
       "1  0.11001        0.997857       0.976074     0.936508        0.893939\n",
       "2  0.22001        0.997857       0.977162     0.936508        0.900763\n",
       "3  0.33001        0.997589       0.977162     0.936508        0.900763\n",
       "4  0.44001        0.997053       0.977162     0.936508        0.900763\n",
       "5  0.55001        0.996250       0.976618     0.936508        0.897338\n",
       "6  0.66001        0.996518       0.976074     0.932540        0.896947\n",
       "7  0.77001        0.996518       0.976074     0.924603        0.903101\n",
       "8  0.88001        0.996250       0.976074     0.924603        0.903101\n",
       "9  0.99001        0.995982       0.976074     0.920635        0.906250"
      ]
     },
     "execution_count": 11,
     "metadata": {},
     "output_type": "execute_result"
    }
   ],
   "source": [
    "matrix=np.matrix(np.c_[list_alpha,score_train,score_test,recall_test,precision_test])\n",
    "models = pd.DataFrame(data = matrix,columns = \n",
    "                      ['alpha', 'Train Accuracy','Test Accuracy', 'Test Recall','Test Precision'])\n",
    "models.head(n=10)"
   ]
  },
  {
   "cell_type": "markdown",
   "id": "55697573",
   "metadata": {
    "papermill": {
     "duration": 0.010994,
     "end_time": "2023-04-25T16:55:31.578570",
     "exception": false,
     "start_time": "2023-04-25T16:55:31.567576",
     "status": "completed"
    },
    "tags": []
   },
   "source": [
    "I selected the model with the most test precision"
   ]
  },
  {
   "cell_type": "code",
   "execution_count": 12,
   "id": "f11389bd",
   "metadata": {
    "execution": {
     "iopub.execute_input": "2023-04-25T16:55:31.604058Z",
     "iopub.status.busy": "2023-04-25T16:55:31.602979Z",
     "iopub.status.idle": "2023-04-25T16:55:31.613305Z",
     "shell.execute_reply": "2023-04-25T16:55:31.612125Z"
    },
    "papermill": {
     "duration": 0.026142,
     "end_time": "2023-04-25T16:55:31.615858",
     "exception": false,
     "start_time": "2023-04-25T16:55:31.589716",
     "status": "completed"
    },
    "tags": []
   },
   "outputs": [
    {
     "data": {
      "text/plain": [
       "alpha             15.730010\n",
       "Train Accuracy     0.979641\n",
       "Test Accuracy      0.969549\n",
       "Test Recall        0.777778\n",
       "Test Precision     1.000000\n",
       "Name: 143, dtype: float64"
      ]
     },
     "execution_count": 12,
     "metadata": {},
     "output_type": "execute_result"
    }
   ],
   "source": [
    "best_index=models['Test Precision'].idxmax()\n",
    "models.iloc[best_index,:]"
   ]
  },
  {
   "cell_type": "markdown",
   "id": "dba4dcdc",
   "metadata": {
    "papermill": {
     "duration": 0.011045,
     "end_time": "2023-04-25T16:55:31.638353",
     "exception": false,
     "start_time": "2023-04-25T16:55:31.627308",
     "status": "completed"
    },
    "tags": []
   },
   "source": [
    "**My best models does not produce any false positive,which is our goal.**"
   ]
  },
  {
   "cell_type": "markdown",
   "id": "5c86cf7b",
   "metadata": {
    "papermill": {
     "duration": 0.010751,
     "end_time": "2023-04-25T16:55:31.660816",
     "exception": false,
     "start_time": "2023-04-25T16:55:31.650065",
     "status": "completed"
    },
    "tags": []
   },
   "source": [
    "let's see if ther5re is more than one model with 100\n",
    "% precision!"
   ]
  },
  {
   "cell_type": "code",
   "execution_count": 13,
   "id": "8d9a9966",
   "metadata": {
    "execution": {
     "iopub.execute_input": "2023-04-25T16:55:31.685710Z",
     "iopub.status.busy": "2023-04-25T16:55:31.684813Z",
     "iopub.status.idle": "2023-04-25T16:55:31.700366Z",
     "shell.execute_reply": "2023-04-25T16:55:31.699408Z"
    },
    "papermill": {
     "duration": 0.030571,
     "end_time": "2023-04-25T16:55:31.702649",
     "exception": false,
     "start_time": "2023-04-25T16:55:31.672078",
     "status": "completed"
    },
    "tags": []
   },
   "outputs": [
    {
     "data": {
      "text/html": [
       "<div>\n",
       "<style scoped>\n",
       "    .dataframe tbody tr th:only-of-type {\n",
       "        vertical-align: middle;\n",
       "    }\n",
       "\n",
       "    .dataframe tbody tr th {\n",
       "        vertical-align: top;\n",
       "    }\n",
       "\n",
       "    .dataframe thead th {\n",
       "        text-align: right;\n",
       "    }\n",
       "</style>\n",
       "<table border=\"1\" class=\"dataframe\">\n",
       "  <thead>\n",
       "    <tr style=\"text-align: right;\">\n",
       "      <th></th>\n",
       "      <th>alpha</th>\n",
       "      <th>Train Accuracy</th>\n",
       "      <th>Test Accuracy</th>\n",
       "      <th>Test Recall</th>\n",
       "      <th>Test Precision</th>\n",
       "    </tr>\n",
       "  </thead>\n",
       "  <tbody>\n",
       "    <tr>\n",
       "      <th>143</th>\n",
       "      <td>15.73001</td>\n",
       "      <td>0.979641</td>\n",
       "      <td>0.969549</td>\n",
       "      <td>0.777778</td>\n",
       "      <td>1.0</td>\n",
       "    </tr>\n",
       "    <tr>\n",
       "      <th>144</th>\n",
       "      <td>15.84001</td>\n",
       "      <td>0.979641</td>\n",
       "      <td>0.969549</td>\n",
       "      <td>0.777778</td>\n",
       "      <td>1.0</td>\n",
       "    </tr>\n",
       "    <tr>\n",
       "      <th>145</th>\n",
       "      <td>15.95001</td>\n",
       "      <td>0.979641</td>\n",
       "      <td>0.969549</td>\n",
       "      <td>0.777778</td>\n",
       "      <td>1.0</td>\n",
       "    </tr>\n",
       "    <tr>\n",
       "      <th>146</th>\n",
       "      <td>16.06001</td>\n",
       "      <td>0.979373</td>\n",
       "      <td>0.969549</td>\n",
       "      <td>0.777778</td>\n",
       "      <td>1.0</td>\n",
       "    </tr>\n",
       "    <tr>\n",
       "      <th>147</th>\n",
       "      <td>16.17001</td>\n",
       "      <td>0.979373</td>\n",
       "      <td>0.969549</td>\n",
       "      <td>0.777778</td>\n",
       "      <td>1.0</td>\n",
       "    </tr>\n",
       "  </tbody>\n",
       "</table>\n",
       "</div>"
      ],
      "text/plain": [
       "        alpha  Train Accuracy  Test Accuracy  Test Recall  Test Precision\n",
       "143  15.73001        0.979641       0.969549     0.777778             1.0\n",
       "144  15.84001        0.979641       0.969549     0.777778             1.0\n",
       "145  15.95001        0.979641       0.969549     0.777778             1.0\n",
       "146  16.06001        0.979373       0.969549     0.777778             1.0\n",
       "147  16.17001        0.979373       0.969549     0.777778             1.0"
      ]
     },
     "execution_count": 13,
     "metadata": {},
     "output_type": "execute_result"
    }
   ],
   "source": [
    "models[models['Test Precision']==1].head(n=5)"
   ]
  },
  {
   "cell_type": "markdown",
   "id": "9259a229",
   "metadata": {
    "papermill": {
     "duration": 0.011112,
     "end_time": "2023-04-25T16:55:31.725241",
     "exception": false,
     "start_time": "2023-04-25T16:55:31.714129",
     "status": "completed"
    },
    "tags": []
   },
   "source": [
    "between these models with the highest possible precision ,we are goingf to select which has more test accuracy"
   ]
  },
  {
   "cell_type": "code",
   "execution_count": 14,
   "id": "9c83666c",
   "metadata": {
    "execution": {
     "iopub.execute_input": "2023-04-25T16:55:31.749870Z",
     "iopub.status.busy": "2023-04-25T16:55:31.749423Z",
     "iopub.status.idle": "2023-04-25T16:55:31.765169Z",
     "shell.execute_reply": "2023-04-25T16:55:31.763865Z"
    },
    "papermill": {
     "duration": 0.031279,
     "end_time": "2023-04-25T16:55:31.767880",
     "exception": false,
     "start_time": "2023-04-25T16:55:31.736601",
     "status": "completed"
    },
    "tags": []
   },
   "outputs": [
    {
     "data": {
      "text/plain": [
       "alpha             15.730010\n",
       "Train Accuracy     0.979641\n",
       "Test Accuracy      0.969549\n",
       "Test Recall        0.777778\n",
       "Test Precision     1.000000\n",
       "Name: 143, dtype: float64"
      ]
     },
     "execution_count": 14,
     "metadata": {},
     "output_type": "execute_result"
    }
   ],
   "source": [
    "best_index=models[models['Test Precision']==1]['Test Accuracy'].idxmax()\n",
    "bayes=naive_bayes.MultinomialNB(alpha=list_alpha[best_index])\n",
    "bayes.fit(X_train,y_train)\n",
    "models.iloc[best_index,:]"
   ]
  },
  {
   "cell_type": "markdown",
   "id": "d179ee16",
   "metadata": {
    "papermill": {
     "duration": 0.01232,
     "end_time": "2023-04-25T16:55:31.791748",
     "exception": false,
     "start_time": "2023-04-25T16:55:31.779428",
     "status": "completed"
    },
    "tags": []
   },
   "source": [
    "**confusion matrix with naive bayes classifier**"
   ]
  },
  {
   "cell_type": "code",
   "execution_count": 15,
   "id": "913ce788",
   "metadata": {
    "execution": {
     "iopub.execute_input": "2023-04-25T16:55:31.818074Z",
     "iopub.status.busy": "2023-04-25T16:55:31.816844Z",
     "iopub.status.idle": "2023-04-25T16:55:31.830440Z",
     "shell.execute_reply": "2023-04-25T16:55:31.829449Z"
    },
    "papermill": {
     "duration": 0.029218,
     "end_time": "2023-04-25T16:55:31.832864",
     "exception": false,
     "start_time": "2023-04-25T16:55:31.803646",
     "status": "completed"
    },
    "tags": []
   },
   "outputs": [
    {
     "data": {
      "text/html": [
       "<div>\n",
       "<style scoped>\n",
       "    .dataframe tbody tr th:only-of-type {\n",
       "        vertical-align: middle;\n",
       "    }\n",
       "\n",
       "    .dataframe tbody tr th {\n",
       "        vertical-align: top;\n",
       "    }\n",
       "\n",
       "    .dataframe thead th {\n",
       "        text-align: right;\n",
       "    }\n",
       "</style>\n",
       "<table border=\"1\" class=\"dataframe\">\n",
       "  <thead>\n",
       "    <tr style=\"text-align: right;\">\n",
       "      <th></th>\n",
       "      <th>Predicted 0</th>\n",
       "      <th>Predicted 1</th>\n",
       "    </tr>\n",
       "  </thead>\n",
       "  <tbody>\n",
       "    <tr>\n",
       "      <th>Actual 0</th>\n",
       "      <td>1587</td>\n",
       "      <td>0</td>\n",
       "    </tr>\n",
       "    <tr>\n",
       "      <th>Actual 1</th>\n",
       "      <td>56</td>\n",
       "      <td>196</td>\n",
       "    </tr>\n",
       "  </tbody>\n",
       "</table>\n",
       "</div>"
      ],
      "text/plain": [
       "          Predicted 0  Predicted 1\n",
       "Actual 0         1587            0\n",
       "Actual 1           56          196"
      ]
     },
     "execution_count": 15,
     "metadata": {},
     "output_type": "execute_result"
    }
   ],
   "source": [
    "m_confusion_test=metrics.confusion_matrix(y_test,bayes.predict(X_test))\n",
    "pd.DataFrame(data = m_confusion_test, columns = ['Predicted 0','Predicted 1'],index=['Actual 0','Actual 1'])"
   ]
  },
  {
   "cell_type": "markdown",
   "id": "cee9ed6c",
   "metadata": {
    "papermill": {
     "duration": 0.011828,
     "end_time": "2023-04-25T16:55:31.856606",
     "exception": false,
     "start_time": "2023-04-25T16:55:31.844778",
     "status": "completed"
    },
    "tags": []
   },
   "source": [
    "we misclassift 56 spam messages as non-spam emails whereas we dont misclassify any non-spam message."
   ]
  },
  {
   "cell_type": "markdown",
   "id": "21b73260",
   "metadata": {
    "papermill": {
     "duration": 0.011365,
     "end_time": "2023-04-25T16:55:31.880130",
     "exception": false,
     "start_time": "2023-04-25T16:55:31.868765",
     "status": "completed"
    },
    "tags": []
   },
   "source": [
    "**Support Vector Machine**"
   ]
  },
  {
   "cell_type": "markdown",
   "id": "f18af5ca",
   "metadata": {
    "papermill": {
     "duration": 0.0113,
     "end_time": "2023-04-25T16:55:31.903394",
     "exception": false,
     "start_time": "2023-04-25T16:55:31.892094",
     "status": "completed"
    },
    "tags": []
   },
   "source": [
    "we are going to apply the same reasoning applying the support vector machine model with the gaussion kernal.\n",
    "\n",
    "w train different models changing the regulation parameter C.\n",
    "\n",
    "we evaluate the accuarcy,recall and precision of the model with the test set."
   ]
  },
  {
   "cell_type": "code",
   "execution_count": 16,
   "id": "6b0e6674",
   "metadata": {
    "execution": {
     "iopub.execute_input": "2023-04-25T16:55:31.928674Z",
     "iopub.status.busy": "2023-04-25T16:55:31.928260Z",
     "iopub.status.idle": "2023-04-25T16:56:04.176962Z",
     "shell.execute_reply": "2023-04-25T16:56:04.175756Z"
    },
    "papermill": {
     "duration": 32.264828,
     "end_time": "2023-04-25T16:56:04.179948",
     "exception": false,
     "start_time": "2023-04-25T16:55:31.915120",
     "status": "completed"
    },
    "tags": []
   },
   "outputs": [],
   "source": [
    "list_C=np.arange(500,2000,100) #100000\n",
    "score_train=np.zeros(len(list_C))\n",
    "score_test=np.zeros(len(list_C))\n",
    "recall_test=np.zeros(len(list_C))\n",
    "precision_test=np.zeros(len(list_C))\n",
    "count = 0\n",
    "for C in list_C:\n",
    "    svc=svm.SVC(C=C)\n",
    "    svc.fit(X_train,y_train)\n",
    "    score_train[count]=svc.score(X_train,y_train)\n",
    "    score_test[count]=svc.score(X_test,y_test)\n",
    "    recall_test[count]=metrics.recall_score(y_test,svc.predict(X_test))\n",
    "    precision_test[count]=metrics.precision_score(y_test,svc.predict(X_test))\n",
    "    count=count+1\n",
    "    "
   ]
  },
  {
   "cell_type": "code",
   "execution_count": 17,
   "id": "3e79a2dc",
   "metadata": {
    "execution": {
     "iopub.execute_input": "2023-04-25T16:56:04.205287Z",
     "iopub.status.busy": "2023-04-25T16:56:04.204699Z",
     "iopub.status.idle": "2023-04-25T16:56:04.222831Z",
     "shell.execute_reply": "2023-04-25T16:56:04.221471Z"
    },
    "papermill": {
     "duration": 0.034166,
     "end_time": "2023-04-25T16:56:04.225791",
     "exception": false,
     "start_time": "2023-04-25T16:56:04.191625",
     "status": "completed"
    },
    "tags": []
   },
   "outputs": [
    {
     "data": {
      "text/html": [
       "<div>\n",
       "<style scoped>\n",
       "    .dataframe tbody tr th:only-of-type {\n",
       "        vertical-align: middle;\n",
       "    }\n",
       "\n",
       "    .dataframe tbody tr th {\n",
       "        vertical-align: top;\n",
       "    }\n",
       "\n",
       "    .dataframe thead th {\n",
       "        text-align: right;\n",
       "    }\n",
       "</style>\n",
       "<table border=\"1\" class=\"dataframe\">\n",
       "  <thead>\n",
       "    <tr style=\"text-align: right;\">\n",
       "      <th></th>\n",
       "      <th>C</th>\n",
       "      <th>Train Accuracy</th>\n",
       "      <th>Train Accuracy</th>\n",
       "      <th>Test Recall</th>\n",
       "      <th>Test Precision</th>\n",
       "    </tr>\n",
       "  </thead>\n",
       "  <tbody>\n",
       "    <tr>\n",
       "      <th>0</th>\n",
       "      <td>500.0</td>\n",
       "      <td>1.0</td>\n",
       "      <td>0.979337</td>\n",
       "      <td>0.853175</td>\n",
       "      <td>0.99537</td>\n",
       "    </tr>\n",
       "    <tr>\n",
       "      <th>1</th>\n",
       "      <td>600.0</td>\n",
       "      <td>1.0</td>\n",
       "      <td>0.979337</td>\n",
       "      <td>0.853175</td>\n",
       "      <td>0.99537</td>\n",
       "    </tr>\n",
       "    <tr>\n",
       "      <th>2</th>\n",
       "      <td>700.0</td>\n",
       "      <td>1.0</td>\n",
       "      <td>0.979337</td>\n",
       "      <td>0.853175</td>\n",
       "      <td>0.99537</td>\n",
       "    </tr>\n",
       "    <tr>\n",
       "      <th>3</th>\n",
       "      <td>800.0</td>\n",
       "      <td>1.0</td>\n",
       "      <td>0.979337</td>\n",
       "      <td>0.853175</td>\n",
       "      <td>0.99537</td>\n",
       "    </tr>\n",
       "    <tr>\n",
       "      <th>4</th>\n",
       "      <td>900.0</td>\n",
       "      <td>1.0</td>\n",
       "      <td>0.979337</td>\n",
       "      <td>0.853175</td>\n",
       "      <td>0.99537</td>\n",
       "    </tr>\n",
       "    <tr>\n",
       "      <th>5</th>\n",
       "      <td>1000.0</td>\n",
       "      <td>1.0</td>\n",
       "      <td>0.979337</td>\n",
       "      <td>0.853175</td>\n",
       "      <td>0.99537</td>\n",
       "    </tr>\n",
       "    <tr>\n",
       "      <th>6</th>\n",
       "      <td>1100.0</td>\n",
       "      <td>1.0</td>\n",
       "      <td>0.979337</td>\n",
       "      <td>0.853175</td>\n",
       "      <td>0.99537</td>\n",
       "    </tr>\n",
       "    <tr>\n",
       "      <th>7</th>\n",
       "      <td>1200.0</td>\n",
       "      <td>1.0</td>\n",
       "      <td>0.979337</td>\n",
       "      <td>0.853175</td>\n",
       "      <td>0.99537</td>\n",
       "    </tr>\n",
       "    <tr>\n",
       "      <th>8</th>\n",
       "      <td>1300.0</td>\n",
       "      <td>1.0</td>\n",
       "      <td>0.979337</td>\n",
       "      <td>0.853175</td>\n",
       "      <td>0.99537</td>\n",
       "    </tr>\n",
       "    <tr>\n",
       "      <th>9</th>\n",
       "      <td>1400.0</td>\n",
       "      <td>1.0</td>\n",
       "      <td>0.979337</td>\n",
       "      <td>0.853175</td>\n",
       "      <td>0.99537</td>\n",
       "    </tr>\n",
       "  </tbody>\n",
       "</table>\n",
       "</div>"
      ],
      "text/plain": [
       "        C  Train Accuracy  Train Accuracy  Test Recall  Test Precision\n",
       "0   500.0             1.0        0.979337     0.853175         0.99537\n",
       "1   600.0             1.0        0.979337     0.853175         0.99537\n",
       "2   700.0             1.0        0.979337     0.853175         0.99537\n",
       "3   800.0             1.0        0.979337     0.853175         0.99537\n",
       "4   900.0             1.0        0.979337     0.853175         0.99537\n",
       "5  1000.0             1.0        0.979337     0.853175         0.99537\n",
       "6  1100.0             1.0        0.979337     0.853175         0.99537\n",
       "7  1200.0             1.0        0.979337     0.853175         0.99537\n",
       "8  1300.0             1.0        0.979337     0.853175         0.99537\n",
       "9  1400.0             1.0        0.979337     0.853175         0.99537"
      ]
     },
     "execution_count": 17,
     "metadata": {},
     "output_type": "execute_result"
    }
   ],
   "source": [
    "matrix=np.matrix(np.c_[list_C,score_train,score_test,recall_test,precision_test])\n",
    "models=pd.DataFrame(data=matrix,columns=['C','Train Accuracy','Train Accuracy','Test Recall','Test Precision'])\n",
    "models.head(n=10)"
   ]
  },
  {
   "cell_type": "code",
   "execution_count": 18,
   "id": "87db1caa",
   "metadata": {
    "execution": {
     "iopub.execute_input": "2023-04-25T16:56:04.252120Z",
     "iopub.status.busy": "2023-04-25T16:56:04.251357Z",
     "iopub.status.idle": "2023-04-25T16:56:04.263091Z",
     "shell.execute_reply": "2023-04-25T16:56:04.261731Z"
    },
    "papermill": {
     "duration": 0.027843,
     "end_time": "2023-04-25T16:56:04.265622",
     "exception": false,
     "start_time": "2023-04-25T16:56:04.237779",
     "status": "completed"
    },
    "tags": []
   },
   "outputs": [
    {
     "data": {
      "text/plain": [
       "C                 500.000000\n",
       "Train Accuracy      1.000000\n",
       "Train Accuracy      0.979337\n",
       "Test Recall         0.853175\n",
       "Test Precision      0.995370\n",
       "Name: 0, dtype: float64"
      ]
     },
     "execution_count": 18,
     "metadata": {},
     "output_type": "execute_result"
    }
   ],
   "source": [
    "best_index=models['Test Precision'].idxmax()\n",
    "models.iloc[best_index,:]"
   ]
  },
  {
   "cell_type": "markdown",
   "id": "8fa019b0",
   "metadata": {
    "papermill": {
     "duration": 0.011534,
     "end_time": "2023-04-25T16:56:04.289186",
     "exception": false,
     "start_time": "2023-04-25T16:56:04.277652",
     "status": "completed"
    },
    "tags": []
   },
   "source": [
    "**My best model does not produce any false positive,which is our goal**"
   ]
  },
  {
   "cell_type": "markdown",
   "id": "64a74702",
   "metadata": {
    "papermill": {
     "duration": 0.011741,
     "end_time": "2023-04-25T16:56:04.313274",
     "exception": false,
     "start_time": "2023-04-25T16:56:04.301533",
     "status": "completed"
    },
    "tags": []
   },
   "source": [
    "lets see if there is more than one model with 100%precision!"
   ]
  },
  {
   "cell_type": "code",
   "execution_count": 19,
   "id": "ab130183",
   "metadata": {
    "execution": {
     "iopub.execute_input": "2023-04-25T16:56:04.339797Z",
     "iopub.status.busy": "2023-04-25T16:56:04.339083Z",
     "iopub.status.idle": "2023-04-25T16:56:04.351220Z",
     "shell.execute_reply": "2023-04-25T16:56:04.349848Z"
    },
    "papermill": {
     "duration": 0.028292,
     "end_time": "2023-04-25T16:56:04.353729",
     "exception": false,
     "start_time": "2023-04-25T16:56:04.325437",
     "status": "completed"
    },
    "tags": []
   },
   "outputs": [
    {
     "data": {
      "text/html": [
       "<div>\n",
       "<style scoped>\n",
       "    .dataframe tbody tr th:only-of-type {\n",
       "        vertical-align: middle;\n",
       "    }\n",
       "\n",
       "    .dataframe tbody tr th {\n",
       "        vertical-align: top;\n",
       "    }\n",
       "\n",
       "    .dataframe thead th {\n",
       "        text-align: right;\n",
       "    }\n",
       "</style>\n",
       "<table border=\"1\" class=\"dataframe\">\n",
       "  <thead>\n",
       "    <tr style=\"text-align: right;\">\n",
       "      <th></th>\n",
       "      <th>C</th>\n",
       "      <th>Train Accuracy</th>\n",
       "      <th>Train Accuracy</th>\n",
       "      <th>Test Recall</th>\n",
       "      <th>Test Precision</th>\n",
       "    </tr>\n",
       "  </thead>\n",
       "  <tbody>\n",
       "  </tbody>\n",
       "</table>\n",
       "</div>"
      ],
      "text/plain": [
       "Empty DataFrame\n",
       "Columns: [C, Train Accuracy, Train Accuracy, Test Recall, Test Precision]\n",
       "Index: []"
      ]
     },
     "execution_count": 19,
     "metadata": {},
     "output_type": "execute_result"
    }
   ],
   "source": [
    "models[models['Test Precision']==1].head(n=5)"
   ]
  },
  {
   "cell_type": "code",
   "execution_count": 20,
   "id": "58ac1509",
   "metadata": {
    "execution": {
     "iopub.execute_input": "2023-04-25T16:56:04.380930Z",
     "iopub.status.busy": "2023-04-25T16:56:04.380221Z",
     "iopub.status.idle": "2023-04-25T16:56:04.689358Z",
     "shell.execute_reply": "2023-04-25T16:56:04.687936Z"
    },
    "papermill": {
     "duration": 0.32594,
     "end_time": "2023-04-25T16:56:04.691950",
     "exception": false,
     "start_time": "2023-04-25T16:56:04.366010",
     "status": "completed"
    },
    "tags": []
   },
   "outputs": [
    {
     "data": {
      "text/html": [
       "<div>\n",
       "<style scoped>\n",
       "    .dataframe tbody tr th:only-of-type {\n",
       "        vertical-align: middle;\n",
       "    }\n",
       "\n",
       "    .dataframe tbody tr th {\n",
       "        vertical-align: top;\n",
       "    }\n",
       "\n",
       "    .dataframe thead th {\n",
       "        text-align: right;\n",
       "    }\n",
       "</style>\n",
       "<table border=\"1\" class=\"dataframe\">\n",
       "  <thead>\n",
       "    <tr style=\"text-align: right;\">\n",
       "      <th></th>\n",
       "      <th>Predicted 0</th>\n",
       "      <th>Predicted 1</th>\n",
       "    </tr>\n",
       "  </thead>\n",
       "  <tbody>\n",
       "    <tr>\n",
       "      <th>Actual 0</th>\n",
       "      <td>1586</td>\n",
       "      <td>1</td>\n",
       "    </tr>\n",
       "    <tr>\n",
       "      <th>Actual 1</th>\n",
       "      <td>37</td>\n",
       "      <td>215</td>\n",
       "    </tr>\n",
       "  </tbody>\n",
       "</table>\n",
       "</div>"
      ],
      "text/plain": [
       "          Predicted 0  Predicted 1\n",
       "Actual 0         1586            1\n",
       "Actual 1           37          215"
      ]
     },
     "execution_count": 20,
     "metadata": {},
     "output_type": "execute_result"
    }
   ],
   "source": [
    "m_confusion_test=metrics.confusion_matrix(y_test,svc.predict(X_test))\n",
    "pd.DataFrame(data=m_confusion_test,columns=['Predicted 0','Predicted 1'],index=['Actual 0','Actual 1'])"
   ]
  },
  {
   "cell_type": "markdown",
   "id": "9529dec9",
   "metadata": {
    "papermill": {
     "duration": 0.012103,
     "end_time": "2023-04-25T16:56:04.716660",
     "exception": false,
     "start_time": "2023-04-25T16:56:04.704557",
     "status": "completed"
    },
    "tags": []
   },
   "source": [
    "we misclassify 37 spam as non-spam message whereas we dont misclassify any non-spam message.\n",
    "\n",
    "**Conclusion**\n",
    "\n",
    "The best model I have found is support vector machine with 98.3% accuracy,\n",
    "\n",
    "It classifies every non-spam messages correctly(Model precision)\n",
    "\n",
    "It classifies the 87.7% of spam messages correctly (Model recall"
   ]
  }
 ],
 "metadata": {
  "kernelspec": {
   "display_name": "Python 3",
   "language": "python",
   "name": "python3"
  },
  "language_info": {
   "codemirror_mode": {
    "name": "ipython",
    "version": 3
   },
   "file_extension": ".py",
   "mimetype": "text/x-python",
   "name": "python",
   "nbconvert_exporter": "python",
   "pygments_lexer": "ipython3",
   "version": "3.7.12"
  },
  "papermill": {
   "default_parameters": {},
   "duration": 49.358403,
   "end_time": "2023-04-25T16:56:05.551929",
   "environment_variables": {},
   "exception": null,
   "input_path": "__notebook__.ipynb",
   "output_path": "__notebook__.ipynb",
   "parameters": {},
   "start_time": "2023-04-25T16:55:16.193526",
   "version": "2.4.0"
  }
 },
 "nbformat": 4,
 "nbformat_minor": 5
}
